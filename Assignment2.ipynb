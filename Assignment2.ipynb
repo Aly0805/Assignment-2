{
  "nbformat": 4,
  "nbformat_minor": 0,
  "metadata": {
    "colab": {
      "name": "Assignment2.ipynb",
      "provenance": [],
      "collapsed_sections": [],
      "authorship_tag": "ABX9TyMwFSWYHBhabEqpQ7FuEYnP",
      "include_colab_link": true
    },
    "kernelspec": {
      "name": "python3",
      "display_name": "Python 3"
    },
    "language_info": {
      "name": "python"
    }
  },
  "cells": [
    {
      "cell_type": "markdown",
      "metadata": {
        "id": "view-in-github",
        "colab_type": "text"
      },
      "source": [
        "<a href=\"https://colab.research.google.com/github/Aly0805/Assignment-2/blob/main/Assignment2.ipynb\" target=\"_parent\"><img src=\"https://colab.research.google.com/assets/colab-badge.svg\" alt=\"Open In Colab\"/></a>"
      ]
    },
    {
      "cell_type": "markdown",
      "metadata": {
        "id": "CxiSPMwQWBL6"
      },
      "source": [
        "# Welcome to Phyton Fundamentals\n",
        "In this module, we are going to establish our skills in Phyton Programming. In this notebook we are going to cover:\n",
        "\n",
        "* Variables and Data Types\n",
        "* Operation\n",
        "* Input and Output Operations\n",
        "* Logic Control\n",
        "* Iterables\n",
        "* Functions\n"
      ]
    },
    {
      "cell_type": "markdown",
      "metadata": {
        "id": "5J0_8oKwWxj3"
      },
      "source": [
        "# Variables and Data Types\n",
        "\n",
        "It denotes the kind of value that specifies which operations may be done on a given set of data. They are created on demand whenever a value is assigned to them. "
      ]
    },
    {
      "cell_type": "code",
      "metadata": {
        "id": "GArgX2hjXn1M"
      },
      "source": [
        "x = 1\n",
        "a, b =3, -2"
      ],
      "execution_count": null,
      "outputs": []
    },
    {
      "cell_type": "code",
      "metadata": {
        "colab": {
          "base_uri": "https://localhost:8080/"
        },
        "id": "QEotCaZDYl5S",
        "outputId": "9158bc4a-a807-462a-c968-9bbe65cd74f5"
      },
      "source": [
        "type (x)"
      ],
      "execution_count": null,
      "outputs": [
        {
          "output_type": "execute_result",
          "data": {
            "text/plain": [
              "int"
            ]
          },
          "metadata": {},
          "execution_count": 3
        }
      ]
    },
    {
      "cell_type": "code",
      "metadata": {
        "colab": {
          "base_uri": "https://localhost:8080/"
        },
        "id": "wo3271QvYvf5",
        "outputId": "397a2179-98a5-4f33-a6bb-04bcdd49cc35"
      },
      "source": [
        "y= 3.0\n",
        "type (y)"
      ],
      "execution_count": null,
      "outputs": [
        {
          "output_type": "execute_result",
          "data": {
            "text/plain": [
              "float"
            ]
          },
          "metadata": {},
          "execution_count": 4
        }
      ]
    },
    {
      "cell_type": "code",
      "metadata": {
        "colab": {
          "base_uri": "https://localhost:8080/"
        },
        "id": "G5wKJi4cY0e5",
        "outputId": "715d0547-eccb-4029-a411-03e09baee178"
      },
      "source": [
        "x = float (x)\n",
        "type (x)\n",
        "x"
      ],
      "execution_count": null,
      "outputs": [
        {
          "output_type": "execute_result",
          "data": {
            "text/plain": [
              "1.0"
            ]
          },
          "metadata": {},
          "execution_count": 7
        }
      ]
    },
    {
      "cell_type": "code",
      "metadata": {
        "colab": {
          "base_uri": "https://localhost:8080/"
        },
        "id": "PK6vWhYEY_Tp",
        "outputId": "087083ba-9876-4bfd-baad-50a12d4533d7"
      },
      "source": [
        "s, t, u = \"1\", \"3\", \"three\"\n",
        "type (u)"
      ],
      "execution_count": null,
      "outputs": [
        {
          "output_type": "execute_result",
          "data": {
            "text/plain": [
              "str"
            ]
          },
          "metadata": {},
          "execution_count": 8
        }
      ]
    },
    {
      "cell_type": "markdown",
      "metadata": {
        "id": "G5x8rwNnZYRP"
      },
      "source": [
        "# Operations\n"
      ]
    },
    {
      "cell_type": "markdown",
      "metadata": {
        "id": "SLmc1kTbZcNe"
      },
      "source": [
        "### Arithmetics\n",
        "This are used to perform mathematical operations like addition, subtraction, multiplication, etc."
      ]
    },
    {
      "cell_type": "code",
      "metadata": {
        "id": "fcjuBxxnZfMO"
      },
      "source": [
        "w, x, y, z = 4.0, -3.0, 2, -32"
      ],
      "execution_count": 4,
      "outputs": []
    },
    {
      "cell_type": "code",
      "metadata": {
        "id": "hpeTyjdTamAE"
      },
      "source": [
        "### Addition\n",
        "S = w+z\n",
        "S"
      ],
      "execution_count": null,
      "outputs": []
    },
    {
      "cell_type": "code",
      "metadata": {
        "id": "7LFFTyuVa3AL"
      },
      "source": [
        "### Substraction\n",
        "D = y - z\n",
        "D"
      ],
      "execution_count": null,
      "outputs": []
    },
    {
      "cell_type": "code",
      "metadata": {
        "id": "oNDlQuTobKIC"
      },
      "source": [
        "### Multiplication\n",
        "P = w*z\n",
        "P"
      ],
      "execution_count": null,
      "outputs": []
    },
    {
      "cell_type": "code",
      "metadata": {
        "id": "6XWmaD56bTkL"
      },
      "source": [
        "### Division\n",
        "Q = y/x\n",
        "Q"
      ],
      "execution_count": null,
      "outputs": []
    },
    {
      "cell_type": "code",
      "metadata": {
        "colab": {
          "base_uri": "https://localhost:8080/"
        },
        "id": "R34j4S-lAsW6",
        "outputId": "61ce5c67-a7d3-4963-b3fc-95eb036b5ffb"
      },
      "source": [
        "Q = w//z\n",
        "Q\n"
      ],
      "execution_count": 5,
      "outputs": [
        {
          "output_type": "execute_result",
          "data": {
            "text/plain": [
              "-1.0"
            ]
          },
          "metadata": {},
          "execution_count": 5
        }
      ]
    },
    {
      "cell_type": "code",
      "metadata": {
        "colab": {
          "base_uri": "https://localhost:8080/"
        },
        "id": "VYSMEbhHBI2w",
        "outputId": "b1aa2652-3e27-409e-fefc-382201f0f0da"
      },
      "source": [
        "### Exponintiation\n",
        "E = w**w\n",
        "E"
      ],
      "execution_count": 6,
      "outputs": [
        {
          "output_type": "execute_result",
          "data": {
            "text/plain": [
              "256.0"
            ]
          },
          "metadata": {},
          "execution_count": 6
        }
      ]
    },
    {
      "cell_type": "code",
      "metadata": {
        "colab": {
          "base_uri": "https://localhost:8080/"
        },
        "id": "1TieRKIFBN3H",
        "outputId": "fe4ac742-ff95-4d58-b9a5-25a154e563d5"
      },
      "source": [
        "### Modulo\n",
        "mod = z%x\n",
        "mod"
      ],
      "execution_count": 7,
      "outputs": [
        {
          "output_type": "execute_result",
          "data": {
            "text/plain": [
              "-2.0"
            ]
          },
          "metadata": {},
          "execution_count": 7
        }
      ]
    },
    {
      "cell_type": "markdown",
      "metadata": {
        "id": "-jr5pheCB6X1"
      },
      "source": [
        "#Assignment \n",
        "They are used in Python to assign values to variables. A=5 is a simple assignment operator that assigns the value 5 on the right to the variable a on the left. "
      ]
    },
    {
      "cell_type": "code",
      "metadata": {
        "id": "YfzFjOlzCFOt"
      },
      "source": [
        "A, B, C, D= 0, 100, 2, 1"
      ],
      "execution_count": 8,
      "outputs": []
    },
    {
      "cell_type": "code",
      "metadata": {
        "id": "ptn86PaSCI2-"
      },
      "source": [
        "A += w\n",
        "A "
      ],
      "execution_count": null,
      "outputs": []
    },
    {
      "cell_type": "code",
      "metadata": {
        "id": "6QC6Om5sCQWc"
      },
      "source": [
        "B -= x\n",
        "B"
      ],
      "execution_count": null,
      "outputs": []
    },
    {
      "cell_type": "code",
      "metadata": {
        "id": "Nsz5c1CcCYgD"
      },
      "source": [
        "C *= w\n",
        "C"
      ],
      "execution_count": null,
      "outputs": []
    },
    {
      "cell_type": "code",
      "metadata": {
        "id": "aGHJrlA6Ccvj"
      },
      "source": [
        "D /= x\n",
        "D"
      ],
      "execution_count": null,
      "outputs": []
    },
    {
      "cell_type": "code",
      "metadata": {
        "colab": {
          "base_uri": "https://localhost:8080/"
        },
        "id": "7BOpB_-qCnl6",
        "outputId": "a646ebd7-ba4b-43d9-afd4-ded0d14be6e1"
      },
      "source": [
        "E **= y\n",
        "E"
      ],
      "execution_count": 13,
      "outputs": [
        {
          "output_type": "execute_result",
          "data": {
            "text/plain": [
              "65536.0"
            ]
          },
          "metadata": {},
          "execution_count": 13
        }
      ]
    },
    {
      "cell_type": "markdown",
      "metadata": {
        "id": "i5nOphcqCqvC"
      },
      "source": [
        "#Comparators\n",
        "They are used to compare the values of two numbers. It compares two boolean values and returns the result. It's most frequently associated with numerical numbers, but it may also be used to other forms of data."
      ]
    },
    {
      "cell_type": "code",
      "metadata": {
        "id": "mQzSvCWgCuOa"
      },
      "source": [
        "size_1, size_2, size_3, = 1, 2.0, \"1\"\n",
        "true_size = 1.0"
      ],
      "execution_count": 17,
      "outputs": []
    },
    {
      "cell_type": "code",
      "metadata": {
        "colab": {
          "base_uri": "https://localhost:8080/"
        },
        "id": "d8E1XIEsC0Fi",
        "outputId": "d4b32726-fecf-4017-cbd7-7723a40b65a5"
      },
      "source": [
        "##Equality\n",
        "size_1 == true_size"
      ],
      "execution_count": 19,
      "outputs": [
        {
          "output_type": "execute_result",
          "data": {
            "text/plain": [
              "True"
            ]
          },
          "metadata": {},
          "execution_count": 19
        }
      ]
    },
    {
      "cell_type": "code",
      "metadata": {
        "colab": {
          "base_uri": "https://localhost:8080/"
        },
        "id": "vRMVrTX9DPkD",
        "outputId": "20ff5bf3-d4ad-4106-8eed-39a60bff1fe3"
      },
      "source": [
        "## Non Equality\n",
        "size_2 != true_size"
      ],
      "execution_count": 20,
      "outputs": [
        {
          "output_type": "execute_result",
          "data": {
            "text/plain": [
              "True"
            ]
          },
          "metadata": {},
          "execution_count": 20
        }
      ]
    },
    {
      "cell_type": "code",
      "metadata": {
        "id": "VTM5hBZaDTQp"
      },
      "source": [
        "## Inequality\n",
        "s1 = size_1 > size_2\n",
        "s2 = size_1 < size_2/2\n",
        "s3 = true_size >= size_1\n",
        "s4 = size_2 <= true_size"
      ],
      "execution_count": 21,
      "outputs": []
    },
    {
      "cell_type": "markdown",
      "metadata": {
        "id": "LXHIKRU7DX2x"
      },
      "source": [
        "#Logical Operations\n",
        "They are used to combine the true or false values of variables (or expressions) to determine the resultant truth value. In Python, there are three logical operators: \"and,\" \"or,\" and \"not.\""
      ]
    },
    {
      "cell_type": "code",
      "metadata": {
        "id": "bScvIXulDcMA"
      },
      "source": [
        "size_1 == true_size\n",
        "size_1 "
      ],
      "execution_count": null,
      "outputs": []
    },
    {
      "cell_type": "code",
      "metadata": {
        "colab": {
          "base_uri": "https://localhost:8080/"
        },
        "id": "H5jH2xYaDimY",
        "outputId": "517beccd-e2ff-498f-b72a-2f63bad3f699"
      },
      "source": [
        "size_1 is true_size"
      ],
      "execution_count": 23,
      "outputs": [
        {
          "output_type": "execute_result",
          "data": {
            "text/plain": [
              "False"
            ]
          },
          "metadata": {},
          "execution_count": 23
        }
      ]
    },
    {
      "cell_type": "code",
      "metadata": {
        "colab": {
          "base_uri": "https://localhost:8080/"
        },
        "id": "t1Ck9hxVDj-5",
        "outputId": "47d379b7-a551-4b9e-b812-6083134a1289"
      },
      "source": [
        "size_1 is not true_size"
      ],
      "execution_count": 24,
      "outputs": [
        {
          "output_type": "execute_result",
          "data": {
            "text/plain": [
              "True"
            ]
          },
          "metadata": {},
          "execution_count": 24
        }
      ]
    },
    {
      "cell_type": "code",
      "metadata": {
        "colab": {
          "base_uri": "https://localhost:8080/"
        },
        "id": "bF03zS_PDmi6",
        "outputId": "6be27562-a0e9-480e-8f95-a850e93b7e72"
      },
      "source": [
        "P, Q = True, False  \n",
        "conj = P and Q \n",
        "conj"
      ],
      "execution_count": 25,
      "outputs": [
        {
          "output_type": "execute_result",
          "data": {
            "text/plain": [
              "False"
            ]
          },
          "metadata": {},
          "execution_count": 25
        }
      ]
    },
    {
      "cell_type": "code",
      "metadata": {
        "colab": {
          "base_uri": "https://localhost:8080/"
        },
        "id": "n86cHxokEjaN",
        "outputId": "1efced9b-ec27-4340-8ed2-827c6a261ed3"
      },
      "source": [
        "disj = P or Q\n",
        "disj"
      ],
      "execution_count": 26,
      "outputs": [
        {
          "output_type": "execute_result",
          "data": {
            "text/plain": [
              "True"
            ]
          },
          "metadata": {},
          "execution_count": 26
        }
      ]
    },
    {
      "cell_type": "code",
      "metadata": {
        "colab": {
          "base_uri": "https://localhost:8080/"
        },
        "id": "tOc8Lho3EoTY",
        "outputId": "f64c64e1-0200-40aa-e1c5-a193cc0579db"
      },
      "source": [
        "nand = not(P and Q)\n",
        "nand"
      ],
      "execution_count": 27,
      "outputs": [
        {
          "output_type": "execute_result",
          "data": {
            "text/plain": [
              "True"
            ]
          },
          "metadata": {},
          "execution_count": 27
        }
      ]
    },
    {
      "cell_type": "code",
      "metadata": {
        "colab": {
          "base_uri": "https://localhost:8080/"
        },
        "id": "C2eYcq9IEqg0",
        "outputId": "1bd8f947-ce1b-4ade-9fb2-eb76ce34ad87"
      },
      "source": [
        "xor = (not P and Q) or (P and not Q)\n",
        "xor"
      ],
      "execution_count": 28,
      "outputs": [
        {
          "output_type": "execute_result",
          "data": {
            "text/plain": [
              "True"
            ]
          },
          "metadata": {},
          "execution_count": 28
        }
      ]
    },
    {
      "cell_type": "markdown",
      "metadata": {
        "id": "TzRnjTMLEtkI"
      },
      "source": [
        "## Input and Output\n",
        "Input refers to any information or data sent to the computer by the user via the keyboard. Output refers to the information that the computer provides to the user. "
      ]
    },
    {
      "cell_type": "code",
      "metadata": {
        "colab": {
          "base_uri": "https://localhost:8080/"
        },
        "id": "FMWMUU4KE1Wk",
        "outputId": "84281dfe-dd64-4cc0-c4fa-f97b29b12d03"
      },
      "source": [
        "print(\"Hello World!\")"
      ],
      "execution_count": 29,
      "outputs": [
        {
          "output_type": "stream",
          "name": "stdout",
          "text": [
            "Hello World!\n"
          ]
        }
      ]
    },
    {
      "cell_type": "code",
      "metadata": {
        "id": "iv7VxMdKE7dE"
      },
      "source": [
        "cnt = 14000"
      ],
      "execution_count": 30,
      "outputs": []
    },
    {
      "cell_type": "code",
      "metadata": {
        "id": "OIKjrTzkE_KD"
      },
      "source": [
        "string = \"Hello World\"\n",
        "print(string, \" Current Covid count is:\", cnt)\n",
        "cnt += 10000"
      ],
      "execution_count": null,
      "outputs": []
    },
    {
      "cell_type": "code",
      "metadata": {
        "id": "J_xmxgLGFPc6"
      },
      "source": [
        "print(f\"{string}, current count is:{cnt}\")"
      ],
      "execution_count": null,
      "outputs": []
    },
    {
      "cell_type": "code",
      "metadata": {
        "colab": {
          "base_uri": "https://localhost:8080/"
        },
        "id": "Dq_cesoZFw6R",
        "outputId": "5728d8dc-7372-49cd-84d1-969a6985746e"
      },
      "source": [
        "sem_grade = 86.25\n",
        "name = \"Aly\"\n",
        "print (\"Hello {}, your semestral grade is {}\".format(name, sem_grade))"
      ],
      "execution_count": 33,
      "outputs": [
        {
          "output_type": "stream",
          "name": "stdout",
          "text": [
            "Hello Aly, your semestral grade is 86.25\n"
          ]
        }
      ]
    },
    {
      "cell_type": "code",
      "metadata": {
        "colab": {
          "base_uri": "https://localhost:8080/"
        },
        "id": "QH0m1OR_Hpn8",
        "outputId": "01f49fec-c0fc-44a3-8a3f-bd27ff2679c6"
      },
      "source": [
        "pg, mg, fg = 0.3, 0.3, 0.4\n",
        "print(\"The  weights of your semestral grades are:\\\n",
        "\\n\\t {:.2%} for Prelims\\\n",
        "\\n\\t {:.2%} for Midterms, and\\\n",
        "\\n\\t {:.2%} for Finals\".format(pg, mg, fg))"
      ],
      "execution_count": 35,
      "outputs": [
        {
          "output_type": "stream",
          "name": "stdout",
          "text": [
            "The  weights of your semestral grades are:\n",
            "\t 30.00% for Prelims\n",
            "\t 30.00% for Midterms, and\n",
            "\t 40.00% for Finals\n"
          ]
        }
      ]
    },
    {
      "cell_type": "code",
      "metadata": {
        "colab": {
          "base_uri": "https://localhost:8080/"
        },
        "id": "owBi6KJYI5XP",
        "outputId": "1c8f7bd1-5433-4b65-cf20-a5fbae08bcfe"
      },
      "source": [
        "e = input(\"Enter a number: \")"
      ],
      "execution_count": 41,
      "outputs": [
        {
          "name": "stdout",
          "output_type": "stream",
          "text": [
            "Enter a number: 90\n"
          ]
        }
      ]
    },
    {
      "cell_type": "code",
      "metadata": {
        "colab": {
          "base_uri": "https://localhost:8080/"
        },
        "id": "Szp_KCguJCGf",
        "outputId": "3de811fd-383f-4720-8f25-7d4de0ea6a01"
      },
      "source": [
        "name = input(\"Enter your name: \")\n",
        "pg = input(\"Enter Prelim grade: \")\n",
        "mg = input(\"Enter Midterm grade \")\n",
        "fg = input(\"Enter Final grade: \")\n",
        "sem_grade = None \n",
        "print(\"Hello {}, your semestral grade is: {}\".format(name, sem_grade))"
      ],
      "execution_count": 40,
      "outputs": [
        {
          "output_type": "stream",
          "name": "stdout",
          "text": [
            "Enter your name: Aly\n",
            "Enter Prelim grade: 85\n",
            "Enter Midterm grade 85\n",
            "Enter Final grade: 85\n",
            "Hello Aly, your semestral grade is: None\n"
          ]
        }
      ]
    },
    {
      "cell_type": "markdown",
      "metadata": {
        "id": "HjKH2vC0J8jU"
      },
      "source": [
        "#Looping Statements\n",
        "Loops are useful in Python and other programming languages because they allow you to repeat a piece of code. You'll frequently find yourself in circumstances where you'll need to utilize a piece of code again but don't want to write the same line of code twice."
      ]
    },
    {
      "cell_type": "markdown",
      "metadata": {
        "id": "pHKC9WwAJ_xU"
      },
      "source": [
        "#While\n",
        "While loop is one of the first loops that you'll probably encounter when you're starting to learn how to program. It is arguably also one of the most intuitive ones to understand: if you think of the name of this loop, you will quickly understand that the word \"while\" has got to do something with \"interval\" or a \"period of time\". As you already know by now, the word \"loop\" refers to a piece of code that you execute repeatedly."
      ]
    },
    {
      "cell_type": "code",
      "metadata": {
        "colab": {
          "base_uri": "https://localhost:8080/"
        },
        "id": "jTwtVDPYKMbL",
        "outputId": "544badb2-8cef-4942-b196-04e4ee7e76c6"
      },
      "source": [
        "##  while loops \n",
        "i, j = 0, 10\n",
        "while(i<=j):\n",
        "  print(f\"{i}\\t|\\t{j}\")\n",
        "  i += 1"
      ],
      "execution_count": 42,
      "outputs": [
        {
          "output_type": "stream",
          "name": "stdout",
          "text": [
            "0\t|\t10\n",
            "1\t|\t10\n",
            "2\t|\t10\n",
            "3\t|\t10\n",
            "4\t|\t10\n",
            "5\t|\t10\n",
            "6\t|\t10\n",
            "7\t|\t10\n",
            "8\t|\t10\n",
            "9\t|\t10\n",
            "10\t|\t10\n"
          ]
        }
      ]
    },
    {
      "cell_type": "markdown",
      "metadata": {
        "id": "k61vk3XMKyPS"
      },
      "source": [
        "#For\n",
        "For loop is a programming concept that, when it's implemented, executes a piece of code over and over again \"for\" a certain number of times, based on a sequence."
      ]
    },
    {
      "cell_type": "code",
      "metadata": {
        "colab": {
          "base_uri": "https://localhost:8080/"
        },
        "id": "aHPpINSJKzb2",
        "outputId": "83eabc72-60da-409a-c321-c678b78405d4"
      },
      "source": [
        "# for(int = 0); i<10; i++){\n",
        "# printf(i)\n",
        "# }\n",
        "\n",
        "i=0\n",
        "for i in range (11):\n",
        "  print(i)"
      ],
      "execution_count": 43,
      "outputs": [
        {
          "output_type": "stream",
          "name": "stdout",
          "text": [
            "0\n",
            "1\n",
            "2\n",
            "3\n",
            "4\n",
            "5\n",
            "6\n",
            "7\n",
            "8\n",
            "9\n",
            "10\n"
          ]
        }
      ]
    },
    {
      "cell_type": "code",
      "metadata": {
        "colab": {
          "base_uri": "https://localhost:8080/"
        },
        "id": "FkgJsoD7K_iS",
        "outputId": "c9049935-3c4e-4ae8-d6d7-3ed2cfa58338"
      },
      "source": [
        "playlist = [\"Bahay Kubo\", \"Magandang Kanta\" , \"Buko\"]\n",
        "print('Now Playing:\\n')\n",
        "for song in playlist:\n",
        "  print(song)\n",
        "  "
      ],
      "execution_count": 44,
      "outputs": [
        {
          "output_type": "stream",
          "name": "stdout",
          "text": [
            "Now Playing:\n",
            "\n",
            "Bahay Kubo\n",
            "Magandang Kanta\n",
            "Buko\n"
          ]
        }
      ]
    },
    {
      "cell_type": "markdown",
      "metadata": {
        "id": "d0HJy16aL54w"
      },
      "source": [
        "Flow Control\n",
        "\n",
        "condition statements"
      ]
    },
    {
      "cell_type": "code",
      "metadata": {
        "colab": {
          "base_uri": "https://localhost:8080/"
        },
        "id": "JDmf4kjWLiQ3",
        "outputId": "079b0b76-0007-4613-891b-3440e0f61ace"
      },
      "source": [
        "num_1, num_2 =  14, 12 \n",
        "if(num_1 == num_2):\n",
        "  print(\"HAHA\")\n",
        "elif(num_1>num_2):\n",
        "  print(\"HOHO\")\n",
        "else:\n",
        "  print (\"HUHU\")"
      ],
      "execution_count": 45,
      "outputs": [
        {
          "output_type": "stream",
          "name": "stdout",
          "text": [
            "HOHO\n"
          ]
        }
      ]
    },
    {
      "cell_type": "markdown",
      "metadata": {
        "id": "p9Ll1EswMC1y"
      },
      "source": [
        "Functions"
      ]
    },
    {
      "cell_type": "code",
      "metadata": {
        "id": "rOEKgVlAMEcN"
      },
      "source": [
        "# void Deleteuser (int userid){\n",
        "# delete(userid);\n",
        "#}\n",
        "\n",
        "def delete_user (userid):\n",
        "  print(\"Successfully deleted user {}\". format(userid))"
      ],
      "execution_count": 46,
      "outputs": []
    },
    {
      "cell_type": "code",
      "metadata": {
        "colab": {
          "base_uri": "https://localhost:8080/"
        },
        "id": "7SlbrSCfMcqk",
        "outputId": "02649f49-9dce-454c-d651-d574cf0bc04f"
      },
      "source": [
        "userid = 2020_100100\n",
        "delete_user(2020_100100)"
      ],
      "execution_count": 47,
      "outputs": [
        {
          "output_type": "stream",
          "name": "stdout",
          "text": [
            "Successfully deleted user 2020100100\n"
          ]
        }
      ]
    },
    {
      "cell_type": "code",
      "metadata": {
        "id": "IMatLR0GMgtc"
      },
      "source": [
        "added1, added2 = 5, 6"
      ],
      "execution_count": 48,
      "outputs": []
    },
    {
      "cell_type": "code",
      "metadata": {
        "id": "IveNVNWFMkHP"
      },
      "source": [
        "def add(added1, added2):\n",
        "  sum =added1 + added2\n",
        "  return sum "
      ],
      "execution_count": 49,
      "outputs": []
    },
    {
      "cell_type": "code",
      "metadata": {
        "colab": {
          "base_uri": "https://localhost:8080/"
        },
        "id": "YPmzQkUXMoIU",
        "outputId": "10b76c30-dbad-480a-ad61-ceb33ac3885b"
      },
      "source": [
        "add(5, 4)"
      ],
      "execution_count": 50,
      "outputs": [
        {
          "output_type": "execute_result",
          "data": {
            "text/plain": [
              "9"
            ]
          },
          "metadata": {},
          "execution_count": 50
        }
      ]
    },
    {
      "cell_type": "markdown",
      "metadata": {
        "id": "DHH66yZQq5y7"
      },
      "source": [
        "#References\n",
        "[1] Python Programming  (ND). (https://www.programiz.com/python-programming/first-program)\n",
        "\n",
        "[2] The Secret of Comparators | Comparison Operators in Python (2021). (https://www.pythonpool.com/python-comparators/)\n",
        "\n",
        "[3] Python Looping Statement (2017). (https://www.datacamp.com/community/tutorials/loops-python-tutorial?utm_source=adwords_ppc&utm_campaignid=1455363063&utm_adgroupid=65083631748&utm_device=c&utm_keyword=&utm_matchtype=b&utm_network=g&utm_adpostion=&utm_creative=332602034358&utm_targetid=aud-392016246653:dsa-429603003980&utm_loc_interest_ms=&utm_loc_physical_ms=9066820&gclid=Cj0KCQjws4aKBhDPARIsAIWH0JWNs-q86N3Snj_VtO8AJdCQrhvZ88T9FQNR8QCiyD3V7xeF2vkAIysaAn7VEALw_wcB)\n",
        "\n",
        "[4] Python Input and Output (ND). (https://chercher.tech/python-programming/python-inputs-and-outputs)"
      ]
    },
    {
      "cell_type": "markdown",
      "metadata": {
        "id": "MgznufCQve9f"
      },
      "source": [
        "![image](https://upload.wikimedia.org/wikipedia/commons/thumb/0/0a/Python.svg/1024px-Python.svg.png)\n"
      ]
    }
  ]
}